{
 "cells": [
  {
   "cell_type": "code",
   "execution_count": 1,
   "id": "b9ba646a",
   "metadata": {},
   "outputs": [],
   "source": [
    "import requests\n",
    "from bs4 import BeautifulSoup"
   ]
  },
  {
   "cell_type": "code",
   "execution_count": 2,
   "id": "c383865f",
   "metadata": {},
   "outputs": [],
   "source": [
    "# predefined parameter\n",
    "\n",
    "course_platform = 'futurelearn'\n",
    "#course_subject = 'infosec'\n",
    "#course_level = 'advanced'\n",
    "course_duration = '10%2B'\n",
    "\n",
    "total_course = 1849"
   ]
  },
  {
   "cell_type": "code",
   "execution_count": 3,
   "id": "6da8c760",
   "metadata": {},
   "outputs": [],
   "source": [
    "course_link = list()\n",
    "course_title = list()\n",
    "course_provider = list()\n",
    "course_rating = list()\n",
    "course_nreviewer = list()\n",
    "course_workload = list()"
   ]
  },
  {
   "cell_type": "code",
   "execution_count": 4,
   "id": "9556ac9f",
   "metadata": {},
   "outputs": [],
   "source": [
    "import numpy as np\n",
    "import pandas as pd\n",
    "\n",
    "data = []\n",
    "\n",
    "max_display = 15\n",
    "\n",
    "total_page = np.ceil(total_course/max_display).astype(int)\n",
    "\n",
    "header = {'User-Agent': 'python-requests/2.26.0', \n",
    "          'Accept-Encoding': 'gzip, deflate, br', \n",
    "          'Accept': '*/*', 'Connection': 'keep-alive'\n",
    "         }"
   ]
  },
  {
   "cell_type": "code",
   "execution_count": 5,
   "id": "45381629",
   "metadata": {},
   "outputs": [],
   "source": [
    "for current_page in range(1, total_page+1):\n",
    "    page = requests.get(\n",
    "        f\"https://www.classcentral.com/provider/{course_platform}?duration={course_duration}&page={current_page}\", \n",
    "        headers = header)\n",
    "    soup = BeautifulSoup(page.content, 'html.parser')\n",
    "\n",
    "    for i in range(0, max_display):\n",
    "        \n",
    "        try:\n",
    "\n",
    "            course_link.append(soup.find_all('a', class_=\"hover-no-underline margin-bottom-xxsmall row vert-align-middle\")[i][\"href\"])\n",
    "            course_title.append(soup.find_all('h2', class_=\"text-1 weight-semi line-tight margin-bottom-xxsmall\")[i].get_text())\n",
    "            #course_provider.append(soup.find_all('span', attrs={\"style\": \"line-height: 100%;\"})[i].find(\"a\")[\"href\"])\n",
    "            #course_rating.append(soup.find_all('a', class_=\"hover-no-underline margin-bottom-xxsmall row vert-align-middle\")[i].find(\"span\")[\"aria-label\"])\n",
    "            #course_nreviewer.append(soup.find_all('span', class_=\"text-3 color-gray margin-left-xxsmall\")[i].get_text())\n",
    "            #course_workload.append(soup.find_all('span', attrs={\"aria-label\": \"Workload and duration\"})[i].get_text())\n",
    "            \n",
    "        except IndexError:\n",
    "            \n",
    "            None\n",
    "            \n",
    "data.append({\n",
    "    'Link' : course_link,\n",
    "    'Title' : course_title,\n",
    "    #'Subject' : course_subject,\n",
    "    ##'Provider' : course_provider,\n",
    "    ##'Rating' : course_rating,\n",
    "    ##'Num_Reviewer' : course_nreviewer,\n",
    "    ##'Workload' : course_workload\n",
    "    #'Platform' : course_platform\n",
    "})\n",
    "\n",
    "df = pd.DataFrame(data)\n"
   ]
  },
  {
   "cell_type": "code",
   "execution_count": 6,
   "id": "63855585",
   "metadata": {},
   "outputs": [
    {
     "data": {
      "text/html": [
       "<div>\n",
       "<style scoped>\n",
       "    .dataframe tbody tr th:only-of-type {\n",
       "        vertical-align: middle;\n",
       "    }\n",
       "\n",
       "    .dataframe tbody tr th {\n",
       "        vertical-align: top;\n",
       "    }\n",
       "\n",
       "    .dataframe thead th {\n",
       "        text-align: right;\n",
       "    }\n",
       "</style>\n",
       "<table border=\"1\" class=\"dataframe\">\n",
       "  <thead>\n",
       "    <tr style=\"text-align: right;\">\n",
       "      <th></th>\n",
       "      <th>Link</th>\n",
       "      <th>Title</th>\n",
       "    </tr>\n",
       "  </thead>\n",
       "  <tbody>\n",
       "    <tr>\n",
       "      <th>0</th>\n",
       "      <td>[/course/end-of-life-care-16932, /course/disco...</td>\n",
       "      <td>[End of Life Care: Challenges and Innovation, ...</td>\n",
       "    </tr>\n",
       "  </tbody>\n",
       "</table>\n",
       "</div>"
      ],
      "text/plain": [
       "                                                Link  \\\n",
       "0  [/course/end-of-life-care-16932, /course/disco...   \n",
       "\n",
       "                                               Title  \n",
       "0  [End of Life Care: Challenges and Innovation, ...  "
      ]
     },
     "execution_count": 6,
     "metadata": {},
     "output_type": "execute_result"
    }
   ],
   "source": [
    "df"
   ]
  },
  {
   "cell_type": "code",
   "execution_count": 7,
   "id": "3861d88d",
   "metadata": {},
   "outputs": [
    {
     "name": "stderr",
     "output_type": "stream",
     "text": [
      "C:\\Users\\NURADH~1\\AppData\\Local\\Temp/ipykernel_17208/2970702368.py:15: FutureWarning: In a future version of pandas all arguments of DataFrame.drop except for the argument 'labels' will be keyword-only\n",
      "  out = df.drop(cols,1).join(pd.DataFrame(s.tolist(),columns=cols,index=s.index))\n"
     ]
    }
   ],
   "source": [
    "from itertools import zip_longest\n",
    "\n",
    "cols = ['Link', \n",
    "        'Title'\n",
    "        #'Provider', \n",
    "        #'Rating', \n",
    "        #'Num_Reviewer', \n",
    "        #'Workload'\n",
    "       ]\n",
    "def fun(x):\n",
    "    return list(zip_longest(*x))\n",
    "\n",
    "s = pd.Series(map(fun,df[cols].to_records(index=False))).explode()\n",
    "\n",
    "out = df.drop(cols,1).join(pd.DataFrame(s.tolist(),columns=cols,index=s.index))"
   ]
  },
  {
   "cell_type": "code",
   "execution_count": 8,
   "id": "ed043897",
   "metadata": {},
   "outputs": [],
   "source": [
    "out['Platform'] = course_platform\n",
    "#out['subject'] = course_subject\n",
    "out['Duration'] = course_duration"
   ]
  },
  {
   "cell_type": "code",
   "execution_count": 9,
   "id": "7c1c3ade",
   "metadata": {},
   "outputs": [
    {
     "data": {
      "text/html": [
       "<div>\n",
       "<style scoped>\n",
       "    .dataframe tbody tr th:only-of-type {\n",
       "        vertical-align: middle;\n",
       "    }\n",
       "\n",
       "    .dataframe tbody tr th {\n",
       "        vertical-align: top;\n",
       "    }\n",
       "\n",
       "    .dataframe thead th {\n",
       "        text-align: right;\n",
       "    }\n",
       "</style>\n",
       "<table border=\"1\" class=\"dataframe\">\n",
       "  <thead>\n",
       "    <tr style=\"text-align: right;\">\n",
       "      <th></th>\n",
       "      <th>Link</th>\n",
       "      <th>Title</th>\n",
       "      <th>Platform</th>\n",
       "      <th>Duration</th>\n",
       "    </tr>\n",
       "  </thead>\n",
       "  <tbody>\n",
       "    <tr>\n",
       "      <th>0</th>\n",
       "      <td>/course/end-of-life-care-16932</td>\n",
       "      <td>End of Life Care: Challenges and Innovation</td>\n",
       "      <td>futurelearn</td>\n",
       "      <td>10%2B</td>\n",
       "    </tr>\n",
       "    <tr>\n",
       "      <th>0</th>\n",
       "      <td>/course/discover-dentistry-1249</td>\n",
       "      <td>Discover Dentistry</td>\n",
       "      <td>futurelearn</td>\n",
       "      <td>10%2B</td>\n",
       "    </tr>\n",
       "    <tr>\n",
       "      <th>0</th>\n",
       "      <td>/course/technical-report-writing-for-engineers...</td>\n",
       "      <td>Technical Report Writing for Engineers</td>\n",
       "      <td>futurelearn</td>\n",
       "      <td>10%2B</td>\n",
       "    </tr>\n",
       "    <tr>\n",
       "      <th>0</th>\n",
       "      <td>/course/songwriting-3369</td>\n",
       "      <td>How to Write Your First Song</td>\n",
       "      <td>futurelearn</td>\n",
       "      <td>10%2B</td>\n",
       "    </tr>\n",
       "    <tr>\n",
       "      <th>0</th>\n",
       "      <td>/course/mindfulness-life-9078</td>\n",
       "      <td>Maintaining a Mindful Life</td>\n",
       "      <td>futurelearn</td>\n",
       "      <td>10%2B</td>\n",
       "    </tr>\n",
       "    <tr>\n",
       "      <th>...</th>\n",
       "      <td>...</td>\n",
       "      <td>...</td>\n",
       "      <td>...</td>\n",
       "      <td>...</td>\n",
       "    </tr>\n",
       "    <tr>\n",
       "      <th>0</th>\n",
       "      <td>/course/futurelearn-desigualdades-en-america-l...</td>\n",
       "      <td>Desigualdades en América Latina y el Caribe: I...</td>\n",
       "      <td>futurelearn</td>\n",
       "      <td>10%2B</td>\n",
       "    </tr>\n",
       "    <tr>\n",
       "      <th>0</th>\n",
       "      <td>/course/futurelearn-copyright-historia-cultura...</td>\n",
       "      <td>Copyright: Historia, Cultura, Industria</td>\n",
       "      <td>futurelearn</td>\n",
       "      <td>10%2B</td>\n",
       "    </tr>\n",
       "    <tr>\n",
       "      <th>0</th>\n",
       "      <td>/course/futurelearn-copyright-historia-cultura...</td>\n",
       "      <td>Copyright: História, Cultura, Indústria</td>\n",
       "      <td>futurelearn</td>\n",
       "      <td>10%2B</td>\n",
       "    </tr>\n",
       "    <tr>\n",
       "      <th>0</th>\n",
       "      <td>/course/revolutionising-the-food-chain-spanish...</td>\n",
       "      <td>Revolucionar la cadena alimentaria mediante la...</td>\n",
       "      <td>futurelearn</td>\n",
       "      <td>10%2B</td>\n",
       "    </tr>\n",
       "    <tr>\n",
       "      <th>0</th>\n",
       "      <td>/course/compassion-in-fashion-chinese-58905</td>\n",
       "      <td>同理新时尚：可持续发展与全球皮草贸易</td>\n",
       "      <td>futurelearn</td>\n",
       "      <td>10%2B</td>\n",
       "    </tr>\n",
       "  </tbody>\n",
       "</table>\n",
       "<p>1849 rows × 4 columns</p>\n",
       "</div>"
      ],
      "text/plain": [
       "                                                 Link  \\\n",
       "0                      /course/end-of-life-care-16932   \n",
       "0                     /course/discover-dentistry-1249   \n",
       "0   /course/technical-report-writing-for-engineers...   \n",
       "0                            /course/songwriting-3369   \n",
       "0                       /course/mindfulness-life-9078   \n",
       "..                                                ...   \n",
       "0   /course/futurelearn-desigualdades-en-america-l...   \n",
       "0   /course/futurelearn-copyright-historia-cultura...   \n",
       "0   /course/futurelearn-copyright-historia-cultura...   \n",
       "0   /course/revolutionising-the-food-chain-spanish...   \n",
       "0         /course/compassion-in-fashion-chinese-58905   \n",
       "\n",
       "                                                Title     Platform Duration  \n",
       "0         End of Life Care: Challenges and Innovation  futurelearn    10%2B  \n",
       "0                                  Discover Dentistry  futurelearn    10%2B  \n",
       "0              Technical Report Writing for Engineers  futurelearn    10%2B  \n",
       "0                        How to Write Your First Song  futurelearn    10%2B  \n",
       "0                          Maintaining a Mindful Life  futurelearn    10%2B  \n",
       "..                                                ...          ...      ...  \n",
       "0   Desigualdades en América Latina y el Caribe: I...  futurelearn    10%2B  \n",
       "0             Copyright: Historia, Cultura, Industria  futurelearn    10%2B  \n",
       "0             Copyright: História, Cultura, Indústria  futurelearn    10%2B  \n",
       "0   Revolucionar la cadena alimentaria mediante la...  futurelearn    10%2B  \n",
       "0                                  同理新时尚：可持续发展与全球皮草贸易  futurelearn    10%2B  \n",
       "\n",
       "[1849 rows x 4 columns]"
      ]
     },
     "execution_count": 9,
     "metadata": {},
     "output_type": "execute_result"
    }
   ],
   "source": [
    "out"
   ]
  },
  {
   "cell_type": "code",
   "execution_count": 10,
   "id": "bc648c5f",
   "metadata": {},
   "outputs": [],
   "source": [
    "out.to_csv(course_platform + \"_duration_\" + course_duration + \".csv\", index=False)"
   ]
  },
  {
   "cell_type": "code",
   "execution_count": null,
   "id": "e9478c1e",
   "metadata": {},
   "outputs": [],
   "source": []
  }
 ],
 "metadata": {
  "kernelspec": {
   "display_name": "Python 3 (ipykernel)",
   "language": "python",
   "name": "python3"
  },
  "language_info": {
   "codemirror_mode": {
    "name": "ipython",
    "version": 3
   },
   "file_extension": ".py",
   "mimetype": "text/x-python",
   "name": "python",
   "nbconvert_exporter": "python",
   "pygments_lexer": "ipython3",
   "version": "3.9.7"
  }
 },
 "nbformat": 4,
 "nbformat_minor": 5
}
